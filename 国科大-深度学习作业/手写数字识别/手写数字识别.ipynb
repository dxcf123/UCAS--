{
 "cells": [
  {
   "cell_type": "markdown",
   "id": "a21ac2aa",
   "metadata": {},
   "source": [
    "## 1 导入相关库"
   ]
  },
  {
   "cell_type": "code",
   "execution_count": 25,
   "id": "eb30e745",
   "metadata": {},
   "outputs": [],
   "source": [
    "import torch\n",
    "from torch import nn\n",
    "import torchvision\n",
    "from torch.utils.data import DataLoader\n",
    "from torch.nn import functional as F"
   ]
  },
  {
   "cell_type": "markdown",
   "id": "e0bd19ea",
   "metadata": {},
   "source": [
    "## 2 获取数据集"
   ]
  },
  {
   "cell_type": "code",
   "execution_count": 26,
   "id": "bb34e1eb",
   "metadata": {},
   "outputs": [],
   "source": [
    "def get_dataset(path, batch_size=32, transform=None):\n",
    "    \"\"\"\n",
    "    加载MNIST数据集并将其转换为DataLoader对象。\n",
    "    :param path: 数据集路径\n",
    "    :param batch_size: 批处理大小\n",
    "    :param transform: 数据预处理\n",
    "    :return: 训练集与测试集的DataLoader对象\n",
    "    \"\"\"\n",
    "    if transform is None:\n",
    "        transform = torchvision.transforms.Compose([  # 对图像进行预处理\n",
    "            torchvision.transforms.ToTensor(),  # 将图片转换成张量\n",
    "            torchvision.transforms.Normalize(mean=(0.5,), std=(0.5,))  # 对图像进行归一化处理\n",
    "        ])\n",
    "\n",
    "    # 训练集\n",
    "    mnist_train = torchvision.datasets.MNIST(  # 加载MNIST数据集，如果本地没有会自动下载\n",
    "        root=path, train=True, transform=transform, download=True)\n",
    "    # 测试集\n",
    "    mnist_test = torchvision.datasets.MNIST(\n",
    "        root=path, train=False, transform=transform, download=True)\n",
    "\n",
    "    # 创建dataloader对象\n",
    "    train_loader = DataLoader(mnist_train, batch_size=batch_size, shuffle=True)\n",
    "    test_loader = DataLoader(mnist_test, batch_size=batch_size, shuffle=False)\n",
    "\n",
    "    return train_loader, test_loader"
   ]
  },
  {
   "cell_type": "code",
   "execution_count": 27,
   "id": "fc6685e8",
   "metadata": {},
   "outputs": [
    {
     "name": "stdout",
     "output_type": "stream",
     "text": [
      "5\n"
     ]
    },
    {
     "data": {
      "image/png": "[encoded data removed]",
      "text/plain": [
       "<PIL.Image.Image image mode=L size=28x28>"
      ]
     },
     "execution_count": 27,
     "metadata": {},
     "output_type": "execute_result"
    }
   ],
   "source": [
    "# 查看MNIST数据集\n",
    "mnist_train = torchvision.datasets.MNIST(  # 加载MNIST数据集，如果本地没有会自动下载\n",
    "        root='./data', train=True, download=True)\n",
    "print(mnist_train[0][1])\n",
    "mnist_train[0][0]"
   ]
  },
  {
   "cell_type": "markdown",
   "id": "55bc3fc9",
   "metadata": {},
   "source": [
    "## 3 定义模型"
   ]
  },
  {
   "cell_type": "code",
   "execution_count": 28,
   "id": "f557bafd",
   "metadata": {},
   "outputs": [],
   "source": [
    "class Model(nn.Module):  # 构建卷积神经网络\n",
    "    def __init__(self):\n",
    "        super(Model, self).__init__()\n",
    "        # 输入通道，输出通道，卷积核大小，步长，填充\n",
    "        self.cov1 = nn.Conv2d(1, 15, 3, stride=1, padding=1)\n",
    "        self.cov2 = nn.Conv2d(15, 45, 3, stride=1, padding=1)\n",
    "        # 池化层 核大小2*2，步长2\n",
    "        self.maxpool1 = nn.MaxPool2d(2, stride=2)\n",
    "        self.maxpool2 = nn.MaxPool2d(2, stride=2)\n",
    "        # 线性层  输入参数与前面的卷积与池化层输出通道数有关\n",
    "        self.lin1 = nn.Linear(49*45, 10)\n",
    "\n",
    "    def forward(self, x):\n",
    "        x = self.cov1(x)  # 第一层卷积 28→28\n",
    "        x = self.maxpool1(x)  # 第一层池化 28→14\n",
    "        x = torch.relu(x)  # 激活函数\n",
    "        x = self.cov2(x)  # 第二层卷积 14→14\n",
    "        x = self.maxpool2(x)  # 第二层池化 14→7\n",
    "        x = torch.relu(x)  # 激活函数\n",
    "        x = x.view(x.size(0), -1)  # 将特征展平 7*7→49\n",
    "        x = self.lin1(x)  # 全连接层 49→10\n",
    "        return x"
   ]
  },
  {
   "cell_type": "markdown",
   "id": "104c1a70",
   "metadata": {},
   "source": [
    "## 4 定义准确率函数"
   ]
  },
  {
   "cell_type": "code",
   "execution_count": 29,
   "id": "91d1e0a9",
   "metadata": {},
   "outputs": [],
   "source": [
    "def acc_test(loader, model, device):\n",
    "    \"\"\"\n",
    "    计算模型在测试集上的准确率。\n",
    "    :param loader: 测试集的DataLoader对象\n",
    "    :param model: 模型对象\n",
    "    :param device: 设备对象\n",
    "    :return: 准确率\n",
    "    \"\"\"\n",
    "    model.eval()  # 将模型设置为评估模式\n",
    "    acc = 0  # 准确的个数\n",
    "    all_ = 0  # 总个数\n",
    "    with torch.no_grad():  # 不计算梯度\n",
    "        for i, (x, y) in enumerate(loader):  # 获取输入与输出\n",
    "            x = x.to(device)  # 将图片转换为一维张量\n",
    "            y = y.to(device)\n",
    "            pre = model(x)  # 预测\n",
    "            pre = torch.argmax(pre, dim=1)  # 获取预测结果每行中的最大值的坐标\n",
    "            all_ += len(pre)  # 记录数据总数\n",
    "            acc += (pre == y).sum().item()  # 记录准确的个数\n",
    "    return acc / all_  # 返回准确率"
   ]
  },
  {
   "cell_type": "markdown",
   "id": "077fe5cd",
   "metadata": {},
   "source": [
    "## 5 定义训练函数"
   ]
  },
  {
   "cell_type": "code",
   "execution_count": 30,
   "id": "cca28ad6",
   "metadata": {},
   "outputs": [],
   "source": [
    "def train(path, output_=10, batch_size=128, lr=0.01, device='cpu', epochs=1):\n",
    "    \"\"\"\n",
    "    训练模型\n",
    "    :param path: 数据存放路径\n",
    "    :param output_: 输出层神经元个数\n",
    "    :param lr: 学习率\n",
    "    :param device: 训练设备\n",
    "    :param epochs: 训练轮数\n",
    "    :param batch_size 批量大小\n",
    "    :return: 返回训练后的模型\n",
    "    \"\"\"\n",
    "    # 损失函数设置为交叉熵损失\n",
    "    lossFuction = torch.nn.CrossEntropyLoss()\n",
    "\n",
    "    # 创建一个卷积神经网络的对象\n",
    "    model = Model()\n",
    "\n",
    "    # 创建优化器\n",
    "    optimizer = torch.optim.Adam(model.parameters(), lr=lr)  # 使用Adam优化器\n",
    "\n",
    "    # 获取数据\n",
    "    train_loader, test_loader = get_dataset(path, batch_size=batch_size)\n",
    "\n",
    "    # 将模型移动到设备上\n",
    "    model.to(device)\n",
    "\n",
    "    # 模型设置为训练模式\n",
    "    model.train()\n",
    "\n",
    "    # 训练模型\n",
    "    for epoch in range(epochs):\n",
    "        all_loss=[]\n",
    "        acc_=[]\n",
    "        for i, (x, y) in enumerate(train_loader):  # 获取输入与输出\n",
    "            x = x.to(device)  # 将图片转换移动到设备上\n",
    "            # 将输出数据转换为one_hot编码并转换为32位浮点数并移动到设备上\n",
    "            y = torch.tensor(F.one_hot(y, num_classes=output_), dtype=torch.float32).to(device)\n",
    "            optimizer.zero_grad()  # 将优化器梯度置零\n",
    "            pre = model(x)  # 预测数据\n",
    "            loss = lossFuction(pre, y)  # 计算损失\n",
    "            loss.backward()  # 反向传播\n",
    "            optimizer.step()  # 梯度更新\n",
    "            if (i + 1) % 10 == 0:\n",
    "                all_loss.append(float(loss))\n",
    "                with open('loss.txt','w',encoding='utf-8') as f:\n",
    "                    f.write(str(all_loss))\n",
    "                acc=acc_test(test_loader, model, device)\n",
    "                acc_.append(acc)\n",
    "                with open('acc.txt','w',encoding='utf-8') as f:\n",
    "                    f.write(str(acc_))\n",
    "                print('准确率： ',acc)\n",
    "                model.train()\n",
    "    return model\n"
   ]
  },
  {
   "cell_type": "markdown",
   "id": "8b2041d1",
   "metadata": {},
   "source": [
    "## 6 训练"
   ]
  },
  {
   "cell_type": "code",
   "execution_count": 32,
   "id": "9f41f2ef",
   "metadata": {},
   "outputs": [
    {
     "name": "stderr",
     "output_type": "stream",
     "text": [
      "C:\\Users\\30535\\AppData\\Local\\Temp\\ipykernel_15240\\1565514881.py:37: UserWarning: To copy construct from a tensor, it is recommended to use sourceTensor.clone().detach() or sourceTensor.clone().detach().requires_grad_(True), rather than torch.tensor(sourceTensor).\n",
      "  y = torch.tensor(F.one_hot(y, num_classes=output_), dtype=torch.float32).to(device)\n"
     ]
    },
    {
     "name": "stdout",
     "output_type": "stream",
     "text": [
      "准确率：  0.7956\n",
      "准确率：  0.8726\n",
      "准确率：  0.9195\n",
      "准确率：  0.94\n",
      "准确率：  0.9494\n",
      "准确率：  0.9414\n",
      "准确率：  0.9564\n",
      "准确率：  0.9627\n",
      "准确率：  0.9638\n",
      "准确率：  0.9662\n",
      "准确率：  0.9662\n",
      "准确率：  0.9675\n",
      "准确率：  0.9655\n",
      "准确率：  0.9686\n",
      "准确率：  0.9646\n",
      "准确率：  0.9661\n",
      "准确率：  0.971\n",
      "准确率：  0.9706\n",
      "准确率：  0.9699\n",
      "准确率：  0.974\n",
      "准确率：  0.9739\n",
      "准确率：  0.9762\n",
      "准确率：  0.9782\n",
      "准确率：  0.9754\n",
      "准确率：  0.9758\n",
      "准确率：  0.9773\n",
      "准确率：  0.9766\n",
      "准确率：  0.974\n",
      "准确率：  0.9741\n",
      "准确率：  0.9795\n",
      "准确率：  0.9795\n",
      "准确率：  0.9824\n",
      "准确率：  0.9754\n",
      "准确率：  0.9772\n",
      "准确率：  0.9791\n",
      "准确率：  0.9803\n",
      "准确率：  0.9728\n",
      "准确率：  0.9781\n",
      "准确率：  0.9807\n",
      "准确率：  0.9811\n",
      "准确率：  0.9807\n",
      "准确率：  0.9783\n",
      "准确率：  0.9809\n",
      "准确率：  0.9801\n",
      "准确率：  0.9821\n",
      "准确率：  0.9811\n"
     ]
    }
   ],
   "source": [
    "model = train('./data',device='cuda')"
   ]
  },
  {
   "cell_type": "markdown",
   "id": "3125c37e",
   "metadata": {},
   "source": [
    "## 7 loss与准确度"
   ]
  },
  {
   "cell_type": "code",
   "execution_count": 33,
   "id": "cfd3642e",
   "metadata": {},
   "outputs": [],
   "source": [
    "%matplotlib qt\n",
    "import matplotlib.pyplot as plt"
   ]
  },
  {
   "cell_type": "code",
   "execution_count": 34,
   "id": "3c0a7e5e",
   "metadata": {},
   "outputs": [],
   "source": [
    "with open('loss.txt','r',encoding='utf-8') as f:\n",
    "    data=f.read()\n",
    "data=eval(data)\n",
    "fig=plt.figure()\n",
    "plt.plot([i*10 for i in range(len(data))],data)\n",
    "plt.xlabel('batch_num')\n",
    "plt.ylabel('loss')\n",
    "fig.show()"
   ]
  },
  {
   "cell_type": "code",
   "execution_count": 35,
   "id": "3e48eb07",
   "metadata": {},
   "outputs": [],
   "source": [
    "with open('acc.txt','r',encoding='utf-8') as f:\n",
    "    data=f.read()\n",
    "data=eval(data)\n",
    "fig=plt.figure()\n",
    "plt.plot([i for i in range(len(data))],data)\n",
    "plt.xlabel('batch_num')\n",
    "plt.ylabel('acc')\n",
    "fig.show()"
   ]
  },
  {
   "cell_type": "code",
   "execution_count": 8,
   "id": "118e29d0",
   "metadata": {},
   "outputs": [
    {
     "data": {
      "text/plain": [
       "[<matplotlib.lines.Line2D at 0x16cc033d210>]"
      ]
     },
     "execution_count": 8,
     "metadata": {},
     "output_type": "execute_result"
    }
   ],
   "source": []
  }
 ],
 "metadata": {
  "kernelspec": {
   "display_name": "Python 3 (ipykernel)",
   "language": "python",
   "name": "python3"
  },
  "language_info": {
   "codemirror_mode": {
    "name": "ipython",
    "version": 3
   },
   "file_extension": ".py",
   "mimetype": "text/x-python",
   "name": "python",
   "nbconvert_exporter": "python",
   "pygments_lexer": "ipython3",
   "version": "3.11.4"
  }
 },
 "nbformat": 4,
 "nbformat_minor": 5
}
